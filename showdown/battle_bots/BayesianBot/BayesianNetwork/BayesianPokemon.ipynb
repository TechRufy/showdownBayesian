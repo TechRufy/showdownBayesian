{
 "cells": [
  {
   "cell_type": "code",
   "execution_count": 23,
   "id": "initial_id",
   "metadata": {
    "collapsed": true,
    "ExecuteTime": {
     "end_time": "2024-04-23T13:38:34.940110600Z",
     "start_time": "2024-04-23T13:38:34.735031900Z"
    }
   },
   "outputs": [],
   "source": [
    "from pgmpy.models import BayesianNetwork\n",
    "from pgmpy.estimators import BayesianEstimator\n",
    "import matplotlib.pyplot as plt\n",
    "import networkx as nx\n",
    "import pandas as pd\n",
    "import numpy as np\n",
    "from pgmpy.inference import VariableElimination\n",
    "import warnings\n",
    "import json\n",
    "warnings.filterwarnings(\"ignore\")"
   ]
  },
  {
   "cell_type": "code",
   "execution_count": 24,
   "id": "f17aefd49ffb2c07",
   "metadata": {
    "ExecuteTime": {
     "end_time": "2024-04-23T13:38:34.960865500Z",
     "start_time": "2024-04-23T13:38:34.765824400Z"
    }
   },
   "outputs": [],
   "source": [
    "\n",
    "with open(\"../../../../data/Weakness.json\", 'r+') as weakfile:\n",
    "    weak = json.load(weakfile)\n",
    "    weakfile.close()\n",
    "    \n",
    "def Generate_Multiplicator(x):\n",
    "    EnemyType = x[\"Enemy Type\"]\n",
    "    MoveType = x[\"Type Move\"]\n",
    "    weakness = 1\n",
    "    EnemyType = EnemyType.split(\",\")\n",
    "    for i in range(len(EnemyType)):\n",
    "        if i == 0:\n",
    "            EnemyType[i] = EnemyType[i][2:-1]\n",
    "        elif i == 1:\n",
    "            EnemyType[1] = EnemyType[1][2:-2]\n",
    "    for Type in EnemyType:\n",
    "        if not Type.isalnum():\n",
    "            continue\n",
    "        weakness = weakness * weak[MoveType][Type] \n",
    "    return weakness\n",
    "\n",
    "def percentual_Transform(s):\n",
    "    \n",
    "    l = s.split(\"\\/\")\n",
    "    l = list(map(lambda n: int(n),l))\n",
    "    p = l[0]/l[1] * 100\n",
    "    \n",
    "    return p\n",
    "\n",
    "def check_stab(df):\n",
    "    new_col = []\n",
    "    for i in range(len(df)):\n",
    "        if df['Pokemon Type'][i].split('\\'')[1] == df['Type Move'][i] or (len(df['Pokemon Type'][i].split('\\'')) > 3 and df['Pokemon Type'][i].split('\\'')[3] == df['Type Move'][i]):\n",
    "            new_col.append(True)\n",
    "        else:\n",
    "            new_col.append(False)\n",
    "    df = df.assign(stab=new_col)\n",
    "    df = df.drop(['Pokemon Type', 'Type Move'], axis= 1)\n",
    "    return df"
   ]
  },
  {
   "cell_type": "code",
   "execution_count": 25,
   "id": "d0bb32ec855bbf8f",
   "metadata": {
    "collapsed": false,
    "ExecuteTime": {
     "end_time": "2024-04-23T13:38:34.968862600Z",
     "start_time": "2024-04-23T13:38:34.791566900Z"
    }
   },
   "outputs": [
    {
     "data": {
      "text/plain": "           User   Sufferer    name move  Power  Pokemon HP    Enemy HP  \\\n0     klinklang  klinklang   Substitute      0  100.000000  100.000000   \n1     hydreigon  klinklang       U-turn     70  100.000000  100.000000   \n2     klinklang     emboar       Return    102  100.000000  100.000000   \n3     klinklang     emboar   Substitute      0  100.000000  100.000000   \n4        emboar  klinklang   Fire Blast    110  100.000000  100.000000   \n...         ...        ...          ...    ...         ...         ...   \n2748    persian    persian   Nasty Plot      0  100.000000  100.000000   \n2749      entei    persian  Sacred Fire    100   72.638436  100.000000   \n2750    persian      entei   Dark Pulse     80  100.000000   72.638436   \n2751    persian      entei   Nasty Plot      0  100.000000  100.000000   \n2752      rotom    persian   Leaf Storm    130   62.831858  100.000000   \n\n     Weather  Category Status enemy  Choose  Multiplicator   stab  \n0       none    status       normal     1.0            1.0  False  \n1       none  physical       normal     1.0            1.0  False  \n2       none  physical       normal     1.0            1.0  False  \n3       none    status       normal     0.0            1.0  False  \n4       none   special       normal     1.0            1.0   True  \n...      ...       ...          ...     ...            ...    ...  \n2748    none    status          par     1.0            1.0  False  \n2749    none  physical          par     1.0            1.0   True  \n2750    none   special          psn     1.0            1.0  False  \n2751    none    status          psn     0.0            1.0  False  \n2752    none   special          brn     1.0            1.0  False  \n\n[2753 rows x 12 columns]",
      "text/html": "<div>\n<style scoped>\n    .dataframe tbody tr th:only-of-type {\n        vertical-align: middle;\n    }\n\n    .dataframe tbody tr th {\n        vertical-align: top;\n    }\n\n    .dataframe thead th {\n        text-align: right;\n    }\n</style>\n<table border=\"1\" class=\"dataframe\">\n  <thead>\n    <tr style=\"text-align: right;\">\n      <th></th>\n      <th>User</th>\n      <th>Sufferer</th>\n      <th>name move</th>\n      <th>Power</th>\n      <th>Pokemon HP</th>\n      <th>Enemy HP</th>\n      <th>Weather</th>\n      <th>Category</th>\n      <th>Status enemy</th>\n      <th>Choose</th>\n      <th>Multiplicator</th>\n      <th>stab</th>\n    </tr>\n  </thead>\n  <tbody>\n    <tr>\n      <th>0</th>\n      <td>klinklang</td>\n      <td>klinklang</td>\n      <td>Substitute</td>\n      <td>0</td>\n      <td>100.000000</td>\n      <td>100.000000</td>\n      <td>none</td>\n      <td>status</td>\n      <td>normal</td>\n      <td>1.0</td>\n      <td>1.0</td>\n      <td>False</td>\n    </tr>\n    <tr>\n      <th>1</th>\n      <td>hydreigon</td>\n      <td>klinklang</td>\n      <td>U-turn</td>\n      <td>70</td>\n      <td>100.000000</td>\n      <td>100.000000</td>\n      <td>none</td>\n      <td>physical</td>\n      <td>normal</td>\n      <td>1.0</td>\n      <td>1.0</td>\n      <td>False</td>\n    </tr>\n    <tr>\n      <th>2</th>\n      <td>klinklang</td>\n      <td>emboar</td>\n      <td>Return</td>\n      <td>102</td>\n      <td>100.000000</td>\n      <td>100.000000</td>\n      <td>none</td>\n      <td>physical</td>\n      <td>normal</td>\n      <td>1.0</td>\n      <td>1.0</td>\n      <td>False</td>\n    </tr>\n    <tr>\n      <th>3</th>\n      <td>klinklang</td>\n      <td>emboar</td>\n      <td>Substitute</td>\n      <td>0</td>\n      <td>100.000000</td>\n      <td>100.000000</td>\n      <td>none</td>\n      <td>status</td>\n      <td>normal</td>\n      <td>0.0</td>\n      <td>1.0</td>\n      <td>False</td>\n    </tr>\n    <tr>\n      <th>4</th>\n      <td>emboar</td>\n      <td>klinklang</td>\n      <td>Fire Blast</td>\n      <td>110</td>\n      <td>100.000000</td>\n      <td>100.000000</td>\n      <td>none</td>\n      <td>special</td>\n      <td>normal</td>\n      <td>1.0</td>\n      <td>1.0</td>\n      <td>True</td>\n    </tr>\n    <tr>\n      <th>...</th>\n      <td>...</td>\n      <td>...</td>\n      <td>...</td>\n      <td>...</td>\n      <td>...</td>\n      <td>...</td>\n      <td>...</td>\n      <td>...</td>\n      <td>...</td>\n      <td>...</td>\n      <td>...</td>\n      <td>...</td>\n    </tr>\n    <tr>\n      <th>2748</th>\n      <td>persian</td>\n      <td>persian</td>\n      <td>Nasty Plot</td>\n      <td>0</td>\n      <td>100.000000</td>\n      <td>100.000000</td>\n      <td>none</td>\n      <td>status</td>\n      <td>par</td>\n      <td>1.0</td>\n      <td>1.0</td>\n      <td>False</td>\n    </tr>\n    <tr>\n      <th>2749</th>\n      <td>entei</td>\n      <td>persian</td>\n      <td>Sacred Fire</td>\n      <td>100</td>\n      <td>72.638436</td>\n      <td>100.000000</td>\n      <td>none</td>\n      <td>physical</td>\n      <td>par</td>\n      <td>1.0</td>\n      <td>1.0</td>\n      <td>True</td>\n    </tr>\n    <tr>\n      <th>2750</th>\n      <td>persian</td>\n      <td>entei</td>\n      <td>Dark Pulse</td>\n      <td>80</td>\n      <td>100.000000</td>\n      <td>72.638436</td>\n      <td>none</td>\n      <td>special</td>\n      <td>psn</td>\n      <td>1.0</td>\n      <td>1.0</td>\n      <td>False</td>\n    </tr>\n    <tr>\n      <th>2751</th>\n      <td>persian</td>\n      <td>entei</td>\n      <td>Nasty Plot</td>\n      <td>0</td>\n      <td>100.000000</td>\n      <td>100.000000</td>\n      <td>none</td>\n      <td>status</td>\n      <td>psn</td>\n      <td>0.0</td>\n      <td>1.0</td>\n      <td>False</td>\n    </tr>\n    <tr>\n      <th>2752</th>\n      <td>rotom</td>\n      <td>persian</td>\n      <td>Leaf Storm</td>\n      <td>130</td>\n      <td>62.831858</td>\n      <td>100.000000</td>\n      <td>none</td>\n      <td>special</td>\n      <td>brn</td>\n      <td>1.0</td>\n      <td>1.0</td>\n      <td>False</td>\n    </tr>\n  </tbody>\n</table>\n<p>2753 rows × 12 columns</p>\n</div>"
     },
     "execution_count": 25,
     "metadata": {},
     "output_type": "execute_result"
    }
   ],
   "source": [
    "df = pd.read_csv(\"../parsing Dataset/log/Dataset.csv\")\n",
    "\n",
    "df[\"UserHP\"] = df[\"UserHP\"].map(percentual_Transform)\n",
    "df[\"SuffererHP\"] = df[\"SuffererHP\"].map(percentual_Transform)\n",
    "\n",
    "df.rename({\"UserHP\": \"Pokemon HP\",\"SuffererHP\": \"Enemy HP\",\"TypeM\": \"Type Move\",\n",
    "           \"categoryMove\": \"Category\",\"TypesS\" : \"Enemy Type\",\"TypesU\":\"Pokemon Type\",\n",
    "           \"power\":\"Power\"}, axis=1, inplace=True)\n",
    "df[\"Multiplicator\"] = df[[\"Enemy Type\",\"Type Move\"]].apply(Generate_Multiplicator, axis=1)\n",
    "df = df.drop([\"Enemy Type\"], axis= 1)\n",
    "#df[\"Choose\"] = np.ones(len(df)).astype(int)\n",
    "df = check_stab(df)\n",
    "df[\"Weather\"] = df[\"Weather\"].str.rstrip().str.lower()\n",
    "df[\"Status enemy\"] = df[\"Status enemy\"].str.rstrip().str.lower()\n",
    "df[\"Sufferer\"] = df[\"Sufferer\"].str.rstrip().str.lower()\n",
    "df[\"User\"] = df[\"User\"].str.rstrip().str.lower()\n",
    "df"
   ]
  },
  {
   "cell_type": "code",
   "execution_count": 26,
   "id": "b2aa6993aa8d565d",
   "metadata": {
    "ExecuteTime": {
     "end_time": "2024-04-23T13:38:37.696362400Z",
     "start_time": "2024-04-23T13:38:34.953109200Z"
    }
   },
   "outputs": [
    {
     "data": {
      "text/plain": "           User   Sufferer    name move  Power  Pokemon HP  Enemy HP Weather  \\\n0     klinklang  klinklang   Substitute      0           4         4    none   \n1     hydreigon  klinklang       U-turn      1           4         4    none   \n2     klinklang     emboar       Return      2           4         4    none   \n3     klinklang     emboar   Substitute      0           4         4    none   \n4        emboar  klinklang   Fire Blast      2           4         4    none   \n...         ...        ...          ...    ...         ...       ...     ...   \n2748    persian    persian   Nasty Plot      0           4         4    none   \n2749      entei    persian  Sacred Fire      2           2         4    none   \n2750    persian      entei   Dark Pulse      1           4         2    none   \n2751    persian      entei   Nasty Plot      0           4         4    none   \n2752      rotom    persian   Leaf Storm      3           2         4    none   \n\n      Category Status enemy  Choose  Multiplicator   stab  \n0       status       normal     1.0            1.0  False  \n1     physical       normal     1.0            1.0  False  \n2     physical       normal     1.0            1.0  False  \n3       status       normal     0.0            1.0  False  \n4      special       normal     1.0            1.0   True  \n...        ...          ...     ...            ...    ...  \n2748    status          par     1.0            1.0  False  \n2749  physical          par     1.0            1.0   True  \n2750   special          psn     1.0            1.0  False  \n2751    status          psn     0.0            1.0  False  \n2752   special          brn     1.0            1.0  False  \n\n[2753 rows x 12 columns]",
      "text/html": "<div>\n<style scoped>\n    .dataframe tbody tr th:only-of-type {\n        vertical-align: middle;\n    }\n\n    .dataframe tbody tr th {\n        vertical-align: top;\n    }\n\n    .dataframe thead th {\n        text-align: right;\n    }\n</style>\n<table border=\"1\" class=\"dataframe\">\n  <thead>\n    <tr style=\"text-align: right;\">\n      <th></th>\n      <th>User</th>\n      <th>Sufferer</th>\n      <th>name move</th>\n      <th>Power</th>\n      <th>Pokemon HP</th>\n      <th>Enemy HP</th>\n      <th>Weather</th>\n      <th>Category</th>\n      <th>Status enemy</th>\n      <th>Choose</th>\n      <th>Multiplicator</th>\n      <th>stab</th>\n    </tr>\n  </thead>\n  <tbody>\n    <tr>\n      <th>0</th>\n      <td>klinklang</td>\n      <td>klinklang</td>\n      <td>Substitute</td>\n      <td>0</td>\n      <td>4</td>\n      <td>4</td>\n      <td>none</td>\n      <td>status</td>\n      <td>normal</td>\n      <td>1.0</td>\n      <td>1.0</td>\n      <td>False</td>\n    </tr>\n    <tr>\n      <th>1</th>\n      <td>hydreigon</td>\n      <td>klinklang</td>\n      <td>U-turn</td>\n      <td>1</td>\n      <td>4</td>\n      <td>4</td>\n      <td>none</td>\n      <td>physical</td>\n      <td>normal</td>\n      <td>1.0</td>\n      <td>1.0</td>\n      <td>False</td>\n    </tr>\n    <tr>\n      <th>2</th>\n      <td>klinklang</td>\n      <td>emboar</td>\n      <td>Return</td>\n      <td>2</td>\n      <td>4</td>\n      <td>4</td>\n      <td>none</td>\n      <td>physical</td>\n      <td>normal</td>\n      <td>1.0</td>\n      <td>1.0</td>\n      <td>False</td>\n    </tr>\n    <tr>\n      <th>3</th>\n      <td>klinklang</td>\n      <td>emboar</td>\n      <td>Substitute</td>\n      <td>0</td>\n      <td>4</td>\n      <td>4</td>\n      <td>none</td>\n      <td>status</td>\n      <td>normal</td>\n      <td>0.0</td>\n      <td>1.0</td>\n      <td>False</td>\n    </tr>\n    <tr>\n      <th>4</th>\n      <td>emboar</td>\n      <td>klinklang</td>\n      <td>Fire Blast</td>\n      <td>2</td>\n      <td>4</td>\n      <td>4</td>\n      <td>none</td>\n      <td>special</td>\n      <td>normal</td>\n      <td>1.0</td>\n      <td>1.0</td>\n      <td>True</td>\n    </tr>\n    <tr>\n      <th>...</th>\n      <td>...</td>\n      <td>...</td>\n      <td>...</td>\n      <td>...</td>\n      <td>...</td>\n      <td>...</td>\n      <td>...</td>\n      <td>...</td>\n      <td>...</td>\n      <td>...</td>\n      <td>...</td>\n      <td>...</td>\n    </tr>\n    <tr>\n      <th>2748</th>\n      <td>persian</td>\n      <td>persian</td>\n      <td>Nasty Plot</td>\n      <td>0</td>\n      <td>4</td>\n      <td>4</td>\n      <td>none</td>\n      <td>status</td>\n      <td>par</td>\n      <td>1.0</td>\n      <td>1.0</td>\n      <td>False</td>\n    </tr>\n    <tr>\n      <th>2749</th>\n      <td>entei</td>\n      <td>persian</td>\n      <td>Sacred Fire</td>\n      <td>2</td>\n      <td>2</td>\n      <td>4</td>\n      <td>none</td>\n      <td>physical</td>\n      <td>par</td>\n      <td>1.0</td>\n      <td>1.0</td>\n      <td>True</td>\n    </tr>\n    <tr>\n      <th>2750</th>\n      <td>persian</td>\n      <td>entei</td>\n      <td>Dark Pulse</td>\n      <td>1</td>\n      <td>4</td>\n      <td>2</td>\n      <td>none</td>\n      <td>special</td>\n      <td>psn</td>\n      <td>1.0</td>\n      <td>1.0</td>\n      <td>False</td>\n    </tr>\n    <tr>\n      <th>2751</th>\n      <td>persian</td>\n      <td>entei</td>\n      <td>Nasty Plot</td>\n      <td>0</td>\n      <td>4</td>\n      <td>4</td>\n      <td>none</td>\n      <td>status</td>\n      <td>psn</td>\n      <td>0.0</td>\n      <td>1.0</td>\n      <td>False</td>\n    </tr>\n    <tr>\n      <th>2752</th>\n      <td>rotom</td>\n      <td>persian</td>\n      <td>Leaf Storm</td>\n      <td>3</td>\n      <td>2</td>\n      <td>4</td>\n      <td>none</td>\n      <td>special</td>\n      <td>brn</td>\n      <td>1.0</td>\n      <td>1.0</td>\n      <td>False</td>\n    </tr>\n  </tbody>\n</table>\n<p>2753 rows × 12 columns</p>\n</div>"
     },
     "execution_count": 26,
     "metadata": {},
     "output_type": "execute_result"
    }
   ],
   "source": [
    "from sklearn.preprocessing import KBinsDiscretizer\n",
    "\n",
    "enc = KBinsDiscretizer(n_bins=5, encode='ordinal',strategy='kmeans')\n",
    "enc.fit(df[[\"Pokemon HP\"]])\n",
    "df[\"Pokemon HP\"] = enc.transform(df[[\"Pokemon HP\"]]).astype(int)\n",
    "enc.fit(df[[\"Enemy HP\"]])\n",
    "df[\"Enemy HP\"] = enc.transform(df[[\"Enemy HP\"]]).astype(int)\n",
    "enc = KBinsDiscretizer(n_bins=5, encode='ordinal',strategy='kmeans')\n",
    "enc.fit(df[[\"Power\"]])\n",
    "df[\"Power\"] = enc.transform(df[[\"Power\"]]).astype(int)\n",
    "df"
   ]
  },
  {
   "cell_type": "code",
   "execution_count": 27,
   "id": "180e80aa9de14bd7",
   "metadata": {
    "collapsed": false,
    "ExecuteTime": {
     "end_time": "2024-04-23T13:38:38.127508Z",
     "start_time": "2024-04-23T13:38:37.700363200Z"
    }
   },
   "outputs": [
    {
     "data": {
      "text/plain": "<Figure size 1200x1200 with 1 Axes>",
      "image/png": "[encoded data removed]"
     },
     "metadata": {},
     "output_type": "display_data"
    }
   ],
   "source": [
    "custom_model = BayesianNetwork([('Pokemon HP', 'Choose'), ('Enemy HP', 'Choose'), ('Status enemy', 'Choose'),\n",
    "                              ('stab', 'Choose'), ('Multiplicator', 'Choose'), ('Power', 'Choose'),\n",
    "                               (\"Weather\",\"Choose\"), (\"Category\",\"Choose\")])\n",
    "pos = {'Pokemon HP': [0.75, -0.5], 'Enemy HP': [1.25, -0.5],\n",
    "       \"stab\": [0.75, -1.], 'Multiplicator': [1.25, -1],\n",
    "       'Power': [1.25, 0], \"Weather\" : [1.1, 0],\n",
    "       'Choose': [1, -0.5],\"Category\" : [0.9, 0], \"Status enemy\" : [0.6, -0.5]}\n",
    "fig, ax = plt.subplots(1, 1, figsize=(12, 12))\n",
    "nx.draw_networkx(custom_model, pos=pos, ax=ax, node_size=5000)\n",
    "ax.set_title('Custom model')\n",
    "fig.savefig('custom_bn')"
   ]
  },
  {
   "cell_type": "code",
   "execution_count": 28,
   "id": "d2719e1792b41d7f",
   "metadata": {
    "collapsed": false,
    "ExecuteTime": {
     "end_time": "2024-04-23T13:39:05.090384300Z",
     "start_time": "2024-04-23T13:38:38.121504800Z"
    }
   },
   "outputs": [
    {
     "name": "stdout",
     "output_type": "stream",
     "text": [
      "Checking the model...\n",
      "The model is True\n",
      "\n",
      "\n",
      "CPD for Pokemon HP:\n",
      "+---------------+-----------+\n",
      "| Pokemon HP(0) | 0.0188201 |\n",
      "+---------------+-----------+\n",
      "| Pokemon HP(1) | 0.0488599 |\n",
      "+---------------+-----------+\n",
      "| Pokemon HP(2) | 0.0770901 |\n",
      "+---------------+-----------+\n",
      "| Pokemon HP(3) | 0.107492  |\n",
      "+---------------+-----------+\n",
      "| Pokemon HP(4) | 0.747738  |\n",
      "+---------------+-----------+\n",
      "CPD for Choose:\n",
      "+---------------+-----+--------------------+\n",
      "| Category      | ... | Category(status)   |\n",
      "+---------------+-----+--------------------+\n",
      "| Enemy HP      | ... | Enemy HP(4)        |\n",
      "+---------------+-----+--------------------+\n",
      "| Multiplicator | ... | Multiplicator(4.0) |\n",
      "+---------------+-----+--------------------+\n",
      "| Pokemon HP    | ... | Pokemon HP(4)      |\n",
      "+---------------+-----+--------------------+\n",
      "| Power         | ... | Power(4)           |\n",
      "+---------------+-----+--------------------+\n",
      "| Status enemy  | ... | Status enemy(tox)  |\n",
      "+---------------+-----+--------------------+\n",
      "| Weather       | ... | Weather(sunnyday)  |\n",
      "+---------------+-----+--------------------+\n",
      "| stab          | ... | stab(True)         |\n",
      "+---------------+-----+--------------------+\n",
      "| Choose(0.0)   | ... | 0.5                |\n",
      "+---------------+-----+--------------------+\n",
      "| Choose(1.0)   | ... | 0.5                |\n",
      "+---------------+-----+--------------------+\n",
      "CPD for Enemy HP:\n",
      "+-------------+-----------+\n",
      "| Enemy HP(0) | 0.0231632 |\n",
      "+-------------+-----------+\n",
      "| Enemy HP(1) | 0.0600796 |\n",
      "+-------------+-----------+\n",
      "| Enemy HP(2) | 0.0749186 |\n",
      "+-------------+-----------+\n",
      "| Enemy HP(3) | 0.108216  |\n",
      "+-------------+-----------+\n",
      "| Enemy HP(4) | 0.733623  |\n",
      "+-------------+-----------+\n",
      "CPD for Status enemy:\n",
      "+----------------------+-----------+\n",
      "| Status enemy(brn)    | 0.0848457 |\n",
      "+----------------------+-----------+\n",
      "| Status enemy(frz)    | 0.0222326 |\n",
      "+----------------------+-----------+\n",
      "| Status enemy(normal) | 0.613981  |\n",
      "+----------------------+-----------+\n",
      "| Status enemy(par)    | 0.0388811 |\n",
      "+----------------------+-----------+\n",
      "| Status enemy(psn)    | 0.0359857 |\n",
      "+----------------------+-----------+\n",
      "| Status enemy(slp)    | 0.0602347 |\n",
      "+----------------------+-----------+\n",
      "| Status enemy(tox)    | 0.14384   |\n",
      "+----------------------+-----------+\n",
      "CPD for stab:\n",
      "+-------------+----------+\n",
      "| stab(False) | 0.479189 |\n",
      "+-------------+----------+\n",
      "| stab(True)  | 0.520811 |\n",
      "+-------------+----------+\n",
      "CPD for Multiplicator:\n",
      "+---------------------+------------+\n",
      "| Multiplicator(0.0)  | 0.0226807  |\n",
      "+---------------------+------------+\n",
      "| Multiplicator(0.25) | 0.0244903  |\n",
      "+---------------------+------------+\n",
      "| Multiplicator(0.5)  | 0.137411   |\n",
      "+---------------------+------------+\n",
      "| Multiplicator(1.0)  | 0.705634   |\n",
      "+---------------------+------------+\n",
      "| Multiplicator(2.0)  | 0.101942   |\n",
      "+---------------------+------------+\n",
      "| Multiplicator(4.0)  | 0.00784172 |\n",
      "+---------------------+------------+\n",
      "CPD for Power:\n",
      "+----------+------------+\n",
      "| Power(0) | 0.440825   |\n",
      "+----------+------------+\n",
      "| Power(1) | 0.355411   |\n",
      "+----------+------------+\n",
      "| Power(2) | 0.182048   |\n",
      "+----------+------------+\n",
      "| Power(3) | 0.0206298  |\n",
      "+----------+------------+\n",
      "| Power(4) | 0.00108578 |\n",
      "+----------+------------+\n",
      "CPD for Weather:\n",
      "+--------------------+-----------+\n",
      "| Weather(hail)      | 0.0180963 |\n",
      "+--------------------+-----------+\n",
      "| Weather(none)      | 0.903004  |\n",
      "+--------------------+-----------+\n",
      "| Weather(raindance) | 0.019182  |\n",
      "+--------------------+-----------+\n",
      "| Weather(sandstorm) | 0.0126674 |\n",
      "+--------------------+-----------+\n",
      "| Weather(sunnyday)  | 0.0470503 |\n",
      "+--------------------+-----------+\n",
      "CPD for Category:\n",
      "+--------------------+----------+\n",
      "| Category(physical) | 0.313548 |\n",
      "+--------------------+----------+\n",
      "| Category(special)  | 0.259983 |\n",
      "+--------------------+----------+\n",
      "| Category(status)   | 0.426469 |\n",
      "+--------------------+----------+\n",
      "+---------------+-----+--------------------+\n",
      "| Category      | ... | Category(status)   |\n",
      "+---------------+-----+--------------------+\n",
      "| Enemy HP      | ... | Enemy HP(4)        |\n",
      "+---------------+-----+--------------------+\n",
      "| Multiplicator | ... | Multiplicator(4.0) |\n",
      "+---------------+-----+--------------------+\n",
      "| Pokemon HP    | ... | Pokemon HP(4)      |\n",
      "+---------------+-----+--------------------+\n",
      "| Power         | ... | Power(4)           |\n",
      "+---------------+-----+--------------------+\n",
      "| Status enemy  | ... | Status enemy(tox)  |\n",
      "+---------------+-----+--------------------+\n",
      "| Weather       | ... | Weather(sunnyday)  |\n",
      "+---------------+-----+--------------------+\n",
      "| stab          | ... | stab(True)         |\n",
      "+---------------+-----+--------------------+\n",
      "| Choose(0.0)   | ... | 0.5                |\n",
      "+---------------+-----+--------------------+\n",
      "| Choose(1.0)   | ... | 0.5                |\n",
      "+---------------+-----+--------------------+\n"
     ]
    }
   ],
   "source": [
    "\n",
    "estimator = BayesianEstimator(model=custom_model, data=df)\n",
    "\n",
    "cpds = []\n",
    "for node in custom_model.nodes():\n",
    "    cpds.append(estimator.estimate_cpd(node=node, \n",
    "                                       prior_type=\"BDeu\", \n",
    "                                       equivalent_sample_size=10))\n",
    "    \n",
    "\n",
    "custom_model.add_cpds(*cpds)\n",
    "\n",
    "print('Checking the model...')\n",
    "print(f'The model is {custom_model.check_model()}\\n\\n')\n",
    "\n",
    "for cpd in [cpd for cpd in custom_model.get_cpds()]:\n",
    "    print(f'CPD for {cpd.variable}:')\n",
    "    print(cpd)\n",
    "    \n",
    "choose = custom_model.get_cpds(\"Choose\")\n",
    "print(choose)"
   ]
  },
  {
   "cell_type": "code",
   "execution_count": 46,
   "id": "33ff60968f99d4fc",
   "metadata": {
    "ExecuteTime": {
     "end_time": "2024-04-23T13:51:02.998297800Z",
     "start_time": "2024-04-23T13:51:02.929576800Z"
    }
   },
   "outputs": [],
   "source": [
    "import time\n",
    "\n",
    "EVIDENCE = {'Power': 2,\n",
    "            'Multiplicator': 2,\n",
    "            'stab': True,\n",
    "            'Enemy HP': 1,\n",
    "            \"Pokemon HP\": 4,\n",
    "            \"Category\": \"physical\",\n",
    "            \"Weather\": \"none\",\n",
    "            \"Status enemy\": \"normal\"\n",
    "            }\n",
    "\n",
    "ordering_heuristics = ['MinFill', 'MinNeighbors','MinWeight','WeightedMinFill']\n",
    "inference = VariableElimination(custom_model)\n",
    "\n",
    "def run_query(target_var, evidence, print_output=True):\n",
    "    probs = []\n",
    "    for order in ordering_heuristics:\n",
    "        if print_output:\n",
    "            print('Using ' + order)\n",
    "        start = time.time()\n",
    "        prob = inference.query([target_var],\n",
    "                              evidence,\n",
    "                              elimination_order=order,\n",
    "                              show_progress=False)\n",
    "        probs.append(prob.get_value(Choose = 1))\n",
    "        end = time.time() - start\n",
    "        if print_output:\n",
    "            print(prob)\n",
    "            print('----- Query solved in {:.4f} seconds -----\\n\\n'.format(end))\n",
    "    return probs"
   ]
  },
  {
   "cell_type": "code",
   "execution_count": 47,
   "id": "bb39cc30833bd6fc",
   "metadata": {
    "ExecuteTime": {
     "end_time": "2024-04-23T13:51:27.251952600Z",
     "start_time": "2024-04-23T13:51:26.458764800Z"
    }
   },
   "outputs": [
    {
     "name": "stdout",
     "output_type": "stream",
     "text": [
      "Using MinFill\n",
      "+-------------+---------------+\n",
      "| Choose      |   phi(Choose) |\n",
      "+=============+===============+\n",
      "| Choose(0.0) |        0.0000 |\n",
      "+-------------+---------------+\n",
      "| Choose(1.0) |        1.0000 |\n",
      "+-------------+---------------+\n",
      "----- Query solved in 0.1926 seconds -----\n",
      "\n",
      "\n",
      "Using MinNeighbors\n",
      "+-------------+---------------+\n",
      "| Choose      |   phi(Choose) |\n",
      "+=============+===============+\n",
      "| Choose(0.0) |        0.0000 |\n",
      "+-------------+---------------+\n",
      "| Choose(1.0) |        1.0000 |\n",
      "+-------------+---------------+\n",
      "----- Query solved in 0.1640 seconds -----\n",
      "\n",
      "\n",
      "Using MinWeight\n",
      "+-------------+---------------+\n",
      "| Choose      |   phi(Choose) |\n",
      "+=============+===============+\n",
      "| Choose(0.0) |        0.0000 |\n",
      "+-------------+---------------+\n",
      "| Choose(1.0) |        1.0000 |\n",
      "+-------------+---------------+\n",
      "----- Query solved in 0.2216 seconds -----\n",
      "\n",
      "\n",
      "Using WeightedMinFill\n",
      "+-------------+---------------+\n",
      "| Choose      |   phi(Choose) |\n",
      "+=============+===============+\n",
      "| Choose(0.0) |        0.0000 |\n",
      "+-------------+---------------+\n",
      "| Choose(1.0) |        1.0000 |\n",
      "+-------------+---------------+\n",
      "----- Query solved in 0.1909 seconds -----\n",
      "\n",
      "\n",
      "0.9999682559837471\n"
     ]
    }
   ],
   "source": [
    "result = run_query(target_var='Choose', evidence=EVIDENCE)\n",
    "print(result[0])"
   ]
  },
  {
   "cell_type": "code",
   "execution_count": null,
   "id": "1c8c503bb27a5273",
   "metadata": {
    "ExecuteTime": {
     "start_time": "2024-04-23T13:39:05.381662100Z"
    }
   },
   "outputs": [],
   "source": [
    "df_switch = pd.read_csv(\"../parsing Dataset/log/Dataset-Switch.csv\")\n",
    "\n",
    "def Generate_Multiplicator_In_switch(x):\n",
    "    EnemyType = x[\"Enemy Type\"]\n",
    "    InType = x[\"Pokemon In Type\"]\n",
    "    weakness = 1\n",
    "    EnemyType = EnemyType.split(\",\")\n",
    "    InType = InType.split(\",\")\n",
    "\n",
    "    for i in range(max(len(EnemyType), len(InType))):\n",
    "        if i == 0:\n",
    "            EnemyType[i] = EnemyType[i][2:-1]\n",
    "            InType[i] = InType[i][2:-1]\n",
    "        elif i == 1:\n",
    "            if len(EnemyType) > 1:\n",
    "                EnemyType[1] = EnemyType[1][2:-2]\n",
    "            if len(InType) > 1:\n",
    "                InType[1] = InType[1][2:-2]\n",
    "    for En_Type in EnemyType:\n",
    "        if not En_Type.isalnum():\n",
    "            continue\n",
    "        for In_Type in InType:\n",
    "            if not In_Type.isalnum():\n",
    "                continue\n",
    "            weakness = weakness * weak[In_Type][En_Type] \n",
    "    return weakness\n",
    "\n",
    "def Generate_Multiplicator_Out_switch(x):\n",
    "    EnemyType = x[\"Enemy Type\"]\n",
    "    OutType = x[\"Pokemon Out Type\"]\n",
    "    weakness = 1\n",
    "    EnemyType = EnemyType.split(\",\")\n",
    "    OutType = OutType.split(\",\")\n",
    "\n",
    "    for i in range(max(len(EnemyType), len(OutType))):\n",
    "        if i == 0:\n",
    "            EnemyType[i] = EnemyType[i][2:-1]\n",
    "            OutType[i] = OutType[i][2:-1]\n",
    "        elif i == 1:\n",
    "            if len(EnemyType) > 1:\n",
    "                EnemyType[1] = EnemyType[1][2:-2]\n",
    "            if len(OutType) > 1:\n",
    "                OutType[1] = OutType[1][2:-2]\n",
    "    for En_Type in EnemyType:\n",
    "        if not En_Type.isalnum():\n",
    "            continue\n",
    "        for Out_Type in OutType:\n",
    "            if not Out_Type.isalnum():\n",
    "                continue\n",
    "            weakness = weakness * weak[Out_Type][En_Type] \n",
    "    return weakness\n",
    "\n",
    "df_switch[\"HPout\"] = df_switch[\"HPout\"].map(percentual_Transform)\n",
    "df_switch[\"HPEnemy\"] = df_switch[\"HPEnemy\"].map(percentual_Transform)\n",
    "df_switch[\"Weather\"] = df_switch[\"Weather\"].str.rstrip().str.lower()\n",
    "df_switch[\"StatusP\"] = df_switch[\"StatusP\"].str.rstrip().str.lower()\n",
    "\n",
    "df_switch.rename({\"HPout\": \"Pokemon HP\",\"HPEnemy\": \"Enemy HP\",\"TypeEnemy\" : \"Enemy Type\",\"TypeIN\":\"Pokemon In Type\", \"TypeOUT\":\"Pokemon Out Type\", \"StatusP\":\"Status Pokemon\"}, axis=1, inplace=True)\n",
    "df_switch[\"Multiplicator In\"] = df_switch[[\"Enemy Type\", \"Pokemon In Type\"]].apply(Generate_Multiplicator_In_switch, axis=1)\n",
    "df_switch[\"Multiplicator Out\"] = df_switch[[\"Enemy Type\", \"Pokemon Out Type\"]].apply(Generate_Multiplicator_Out_switch, axis=1)\n",
    "\n",
    "df_switch = df_switch.drop([\"Enemy Type\", \"Pokemon In Type\", \"Pokemon Out Type\"], axis= 1)\n",
    "\n",
    "df_switch"
   ]
  },
  {
   "cell_type": "code",
   "execution_count": null,
   "id": "806a5867",
   "metadata": {
    "ExecuteTime": {
     "start_time": "2024-04-23T13:39:05.381662100Z"
    }
   },
   "outputs": [],
   "source": [
    "from sklearn.preprocessing import KBinsDiscretizer\n",
    "\n",
    "enc = KBinsDiscretizer(n_bins=5, encode='ordinal',strategy='uniform')\n",
    "enc.fit(df_switch[[\"Pokemon HP\"]])\n",
    "df_switch[\"Pokemon HP\"] = enc.transform(df_switch[[\"Pokemon HP\"]]).astype(int)\n",
    "enc.fit(df_switch[[\"Enemy HP\"]])\n",
    "df_switch[\"Enemy HP\"] = enc.transform(df_switch[[\"Enemy HP\"]]).astype(int)\n",
    "df_switch"
   ]
  },
  {
   "cell_type": "code",
   "execution_count": null,
   "id": "63e643b9d5bd70b6",
   "metadata": {
    "collapsed": false,
    "ExecuteTime": {
     "start_time": "2024-04-23T13:39:05.381662100Z"
    }
   },
   "outputs": [],
   "source": [
    "switch_model = BayesianNetwork([('Pokemon HP', 'Switch'), ('Enemy HP', 'Switch'), ('Status Pokemon', 'Switch'), ('Weather', 'Switch'), ('Multiplicator In', 'Switch'), ('Multiplicator Out', 'Switch')])\n",
    "pos = {'Pokemon HP': [0.9, 0], 'Enemy HP': [1.1, 0],\n",
    "       \"Multiplicator Out\": [0.75, 0], 'Multiplicator In': [1.25, 0],\n",
    "       'Switch': [1, -0.5], 'Status Pokemon' : [0.9, -1], 'Weather' : [1.25, -1]}\n",
    "fig, ax = plt.subplots(1, 1, figsize=(12, 12))\n",
    "nx.draw_networkx(switch_model, pos=pos, ax=ax, node_size=5000)\n",
    "ax.set_title('Custom model')\n",
    "fig.savefig('custom_bn')"
   ]
  },
  {
   "cell_type": "code",
   "execution_count": null,
   "id": "01247a75",
   "metadata": {
    "ExecuteTime": {
     "start_time": "2024-04-23T13:39:05.381662100Z"
    }
   },
   "outputs": [],
   "source": [
    "\n",
    "estimator = BayesianEstimator(model=switch_model, data=df_switch)\n",
    "\n",
    "cpds = []\n",
    "for node in switch_model.nodes():\n",
    "    cpds.append(estimator.estimate_cpd(node=node, \n",
    "                                       prior_type=\"BDeu\", \n",
    "                                       equivalent_sample_size=10))\n",
    "switch_model.add_cpds(*cpds)\n",
    "\n",
    "print('Checking the model...')\n",
    "print(f'The model is {switch_model.check_model()}\\n\\n')\n",
    "\n",
    "for cpd in [cpd for cpd in switch_model.get_cpds()]:\n",
    "    print(f'CPD for {cpd.variable}:')\n",
    "    print(cpd)\n",
    "    \n",
    "choose = switch_model.get_cpds(\"Switch\")\n",
    "print(choose)"
   ]
  },
  {
   "cell_type": "code",
   "execution_count": null,
   "id": "8ff4f8df",
   "metadata": {
    "ExecuteTime": {
     "start_time": "2024-04-23T13:39:05.394670900Z"
    }
   },
   "outputs": [],
   "source": [
    "import time\n",
    "\n",
    "EVIDENCE = {'Multiplicator In': 2,\n",
    "            'Multiplicator Out': 0.5,\n",
    "            'Enemy HP': 1,\n",
    "            \"Pokemon HP\": 9}\n",
    "\n",
    "ordering_heuristics = ['MinFill', 'MinNeighbors','MinWeight','WeightedMinFill']\n",
    "inference = VariableElimination(switch_model)\n",
    "\n",
    "def switch_run_query(target_var, evidence, print_output=True):\n",
    "    probs = []\n",
    "    for order in ordering_heuristics:\n",
    "        if print_output:\n",
    "            print('Using ' + order)\n",
    "        start = time.time()\n",
    "        prob = inference.query([target_var],\n",
    "                              evidence,\n",
    "                              elimination_order=order,\n",
    "                              show_progress=False)\n",
    "        probs.append(prob.get_value(Switch = 1))\n",
    "        end = time.time() - start\n",
    "        if print_output:\n",
    "            print(prob)\n",
    "            print('----- Query solved in {:.4f} seconds -----\\n\\n'.format(end))\n",
    "    return probs"
   ]
  },
  {
   "cell_type": "code",
   "execution_count": null,
   "id": "bba79302",
   "metadata": {
    "ExecuteTime": {
     "start_time": "2024-04-23T13:39:05.394670900Z"
    }
   },
   "outputs": [],
   "source": [
    "result = switch_run_query(target_var='Switch', evidence=EVIDENCE)\n",
    "print(result[0])"
   ]
  }
 ],
 "metadata": {
  "kernelspec": {
   "display_name": "Python 3",
   "language": "python",
   "name": "python3"
  },
  "language_info": {
   "codemirror_mode": {
    "name": "ipython",
    "version": 3
   },
   "file_extension": ".py",
   "mimetype": "text/x-python",
   "name": "python",
   "nbconvert_exporter": "python",
   "pygments_lexer": "ipython3",
   "version": "3.10.2"
  }
 },
 "nbformat": 4,
 "nbformat_minor": 5
}
