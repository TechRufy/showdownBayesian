{
 "cells": [
  {
   "cell_type": "code",
   "id": "initial_id",
   "metadata": {
    "collapsed": true,
    "ExecuteTime": {
     "end_time": "2024-04-11T13:17:44.468732Z",
     "start_time": "2024-04-11T13:17:35.208324Z"
    }
   },
   "source": [
    "from pgmpy.models import BayesianNetwork\n",
    "from pgmpy.estimators import BayesianEstimator\n",
    "import matplotlib.pyplot as plt\n",
    "import networkx as nx\n",
    "import pandas as pd\n",
    "import numpy as np\n",
    "from pgmpy.inference import VariableElimination"
   ],
   "outputs": [],
   "execution_count": 1
  },
  {
   "cell_type": "code",
   "source": [
    "def percentual_Transform(s):\n",
    "    \n",
    "    l = s.split(\"\\/\")\n",
    "    l = list(map(lambda n: int(n),l))\n",
    "    p = l[0]/l[1] * 100\n",
    "    \n",
    "    return p"
   ],
   "metadata": {
    "collapsed": false,
    "ExecuteTime": {
     "end_time": "2024-04-11T13:17:44.490928800Z",
     "start_time": "2024-04-11T13:17:44.479686900Z"
    }
   },
   "id": "6a8e719fee8c10ff",
   "outputs": [],
   "execution_count": 2
  },
  {
   "cell_type": "code",
   "source": [
    "import json\n",
    "\n",
    "with open(\"../../../../data/Weakness.json\", 'r+') as weakfile:\n",
    "    weak = json.load(weakfile)\n",
    "    weakfile.close()\n",
    "    \n",
    "def Generate_Multiplicator(x):\n",
    "    EnemyType = x[\"Enemy Type\"]\n",
    "    MoveType = x[\"Type Move\"]\n",
    "    weakness = 1\n",
    "    EnemyType = EnemyType.split(\",\")\n",
    "    for i in range(len(EnemyType)):\n",
    "        if i == 0:\n",
    "            EnemyType[i] = EnemyType[i][2:-1]\n",
    "        elif i == 1:\n",
    "            EnemyType[1] = EnemyType[1][2:-2]\n",
    "    for Type in EnemyType:\n",
    "        if not Type.isalnum():\n",
    "            continue\n",
    "        weakness = weakness * weak[MoveType][Type] \n",
    "    return weakness\n",
    "\n",
    "def percentual_Transform(s):\n",
    "    \n",
    "    l = s.split(\"\\/\")\n",
    "    l = list(map(lambda n: int(n),l))\n",
    "    p = l[0]/l[1] * 100\n",
    "    \n",
    "    return p\n",
    "\n",
    "def check_stab(df):\n",
    "    new_col = []\n",
    "    for i in range(len(df)):\n",
    "        if df['Pokemon Type'][i].split('\\'')[1] == df['Type Move'][i] or (len(df['Pokemon Type'][i].split('\\'')) > 3 and df['Pokemon Type'][i].split('\\'')[3] == df['Type Move'][i]):\n",
    "            new_col.append(True)\n",
    "        else:\n",
    "            new_col.append(False)\n",
    "    df = df.assign(stab=new_col)\n",
    "    df = df.drop(['Pokemon Type', 'Type Move'], axis= 1)\n",
    "    return df"
   ],
   "metadata": {
    "ExecuteTime": {
     "end_time": "2024-04-11T13:17:44.539319Z",
     "start_time": "2024-04-11T13:17:44.499046100Z"
    }
   },
   "id": "f17aefd49ffb2c07",
   "outputs": [],
   "execution_count": 3
  },
  {
   "cell_type": "code",
   "id": "d0bb32ec855bbf8f",
   "metadata": {
    "collapsed": false,
    "ExecuteTime": {
     "end_time": "2024-04-11T13:17:44.693654700Z",
     "start_time": "2024-04-11T13:17:44.539319Z"
    }
   },
   "source": [
    "df = pd.read_csv(\"../parsing Dataset/log/Dataset.csv\")\n",
    "\n",
    "df[\"UserHP\"] = df[\"UserHP\"].map(percentual_Transform)\n",
    "df[\"SuffererHP\"] = df[\"SuffererHP\"].map(percentual_Transform)\n",
    "\n",
    "df.rename({\"UserHP\": \"Pokemon HP\",\"SuffererHP\": \"Enemy HP\",\"TypeM\": \"Type Move\",\n",
    "           \"categoryMove\": \"Category Move\",\"TypesS\" : \"Enemy Type\",\"TypesU\":\"Pokemon Type\",\n",
    "           \"power\":\"Power\"}, axis=1, inplace=True)\n",
    "df[\"Multiplicator\"] = df[[\"Enemy Type\",\"Type Move\"]].apply(Generate_Multiplicator, axis=1)\n",
    "df = df.drop([\"Enemy Type\"], axis= 1)\n",
    "#df[\"Choose\"] = np.ones(len(df)).astype(int)\n",
    "df = check_stab(df)\n",
    "df[\"Weather\"] = df[\"Weather\"].str.rstrip()\n",
    "df"
   ],
   "outputs": [
    {
     "data": {
      "text/plain": "            User      Sufferer     name move  Power  Pokemon HP    Enemy HP  \\\n0         Flygon  Aerodactyl\\n        U-turn     70  100.000000  100.000000   \n1     Aerodactyl    Bronzong\\n  Stealth Rock      0  100.000000  100.000000   \n2       Bronzong    Bronzong\\n    Trick Room      0  100.000000  100.000000   \n3       Bronzong  Forretress\\n    Earthquake    100  100.000000  100.000000   \n4       Bronzong  Forretress\\n    Trick Room      0  100.000000  100.000000   \n...          ...           ...           ...    ...         ...         ...   \n1025     Persian     Persian\\n    Nasty Plot      0  100.000000  100.000000   \n1026       Entei     Persian\\n   Sacred Fire    100   72.638436  100.000000   \n1027     Persian       Entei\\n    Dark Pulse     80  100.000000   72.638436   \n1028     Persian       Entei\\n    Nasty Plot      0  100.000000  100.000000   \n1029       Rotom     Persian\\n    Leaf Storm    130   62.831858  100.000000   \n\n     Weather Category Move  Choose  Multiplicator   stab  \n0       none      physical     1.0           0.50  False  \n1       none        status     1.0           0.50   True  \n2       none        status     1.0           0.25   True  \n3       none      physical     1.0           1.00  False  \n4       none        status     0.0           0.25   True  \n...      ...           ...     ...            ...    ...  \n1025    none        status     1.0           1.00  False  \n1026    none      physical     1.0           1.00   True  \n1027    none       special     1.0           1.00  False  \n1028    none        status     0.0           1.00  False  \n1029    none       special     1.0           1.00  False  \n\n[1030 rows x 11 columns]",
      "text/html": "<div>\n<style scoped>\n    .dataframe tbody tr th:only-of-type {\n        vertical-align: middle;\n    }\n\n    .dataframe tbody tr th {\n        vertical-align: top;\n    }\n\n    .dataframe thead th {\n        text-align: right;\n    }\n</style>\n<table border=\"1\" class=\"dataframe\">\n  <thead>\n    <tr style=\"text-align: right;\">\n      <th></th>\n      <th>User</th>\n      <th>Sufferer</th>\n      <th>name move</th>\n      <th>Power</th>\n      <th>Pokemon HP</th>\n      <th>Enemy HP</th>\n      <th>Weather</th>\n      <th>Category Move</th>\n      <th>Choose</th>\n      <th>Multiplicator</th>\n      <th>stab</th>\n    </tr>\n  </thead>\n  <tbody>\n    <tr>\n      <th>0</th>\n      <td>Flygon</td>\n      <td>Aerodactyl\\n</td>\n      <td>U-turn</td>\n      <td>70</td>\n      <td>100.000000</td>\n      <td>100.000000</td>\n      <td>none</td>\n      <td>physical</td>\n      <td>1.0</td>\n      <td>0.50</td>\n      <td>False</td>\n    </tr>\n    <tr>\n      <th>1</th>\n      <td>Aerodactyl</td>\n      <td>Bronzong\\n</td>\n      <td>Stealth Rock</td>\n      <td>0</td>\n      <td>100.000000</td>\n      <td>100.000000</td>\n      <td>none</td>\n      <td>status</td>\n      <td>1.0</td>\n      <td>0.50</td>\n      <td>True</td>\n    </tr>\n    <tr>\n      <th>2</th>\n      <td>Bronzong</td>\n      <td>Bronzong\\n</td>\n      <td>Trick Room</td>\n      <td>0</td>\n      <td>100.000000</td>\n      <td>100.000000</td>\n      <td>none</td>\n      <td>status</td>\n      <td>1.0</td>\n      <td>0.25</td>\n      <td>True</td>\n    </tr>\n    <tr>\n      <th>3</th>\n      <td>Bronzong</td>\n      <td>Forretress\\n</td>\n      <td>Earthquake</td>\n      <td>100</td>\n      <td>100.000000</td>\n      <td>100.000000</td>\n      <td>none</td>\n      <td>physical</td>\n      <td>1.0</td>\n      <td>1.00</td>\n      <td>False</td>\n    </tr>\n    <tr>\n      <th>4</th>\n      <td>Bronzong</td>\n      <td>Forretress\\n</td>\n      <td>Trick Room</td>\n      <td>0</td>\n      <td>100.000000</td>\n      <td>100.000000</td>\n      <td>none</td>\n      <td>status</td>\n      <td>0.0</td>\n      <td>0.25</td>\n      <td>True</td>\n    </tr>\n    <tr>\n      <th>...</th>\n      <td>...</td>\n      <td>...</td>\n      <td>...</td>\n      <td>...</td>\n      <td>...</td>\n      <td>...</td>\n      <td>...</td>\n      <td>...</td>\n      <td>...</td>\n      <td>...</td>\n      <td>...</td>\n    </tr>\n    <tr>\n      <th>1025</th>\n      <td>Persian</td>\n      <td>Persian\\n</td>\n      <td>Nasty Plot</td>\n      <td>0</td>\n      <td>100.000000</td>\n      <td>100.000000</td>\n      <td>none</td>\n      <td>status</td>\n      <td>1.0</td>\n      <td>1.00</td>\n      <td>False</td>\n    </tr>\n    <tr>\n      <th>1026</th>\n      <td>Entei</td>\n      <td>Persian\\n</td>\n      <td>Sacred Fire</td>\n      <td>100</td>\n      <td>72.638436</td>\n      <td>100.000000</td>\n      <td>none</td>\n      <td>physical</td>\n      <td>1.0</td>\n      <td>1.00</td>\n      <td>True</td>\n    </tr>\n    <tr>\n      <th>1027</th>\n      <td>Persian</td>\n      <td>Entei\\n</td>\n      <td>Dark Pulse</td>\n      <td>80</td>\n      <td>100.000000</td>\n      <td>72.638436</td>\n      <td>none</td>\n      <td>special</td>\n      <td>1.0</td>\n      <td>1.00</td>\n      <td>False</td>\n    </tr>\n    <tr>\n      <th>1028</th>\n      <td>Persian</td>\n      <td>Entei\\n</td>\n      <td>Nasty Plot</td>\n      <td>0</td>\n      <td>100.000000</td>\n      <td>100.000000</td>\n      <td>none</td>\n      <td>status</td>\n      <td>0.0</td>\n      <td>1.00</td>\n      <td>False</td>\n    </tr>\n    <tr>\n      <th>1029</th>\n      <td>Rotom</td>\n      <td>Persian\\n</td>\n      <td>Leaf Storm</td>\n      <td>130</td>\n      <td>62.831858</td>\n      <td>100.000000</td>\n      <td>none</td>\n      <td>special</td>\n      <td>1.0</td>\n      <td>1.00</td>\n      <td>False</td>\n    </tr>\n  </tbody>\n</table>\n<p>1030 rows × 11 columns</p>\n</div>"
     },
     "execution_count": 4,
     "metadata": {},
     "output_type": "execute_result"
    }
   ],
   "execution_count": 4
  },
  {
   "metadata": {
    "ExecuteTime": {
     "end_time": "2024-04-11T13:17:44.883733500Z",
     "start_time": "2024-04-11T13:17:44.694742900Z"
    }
   },
   "cell_type": "code",
   "source": [
    "from sklearn.preprocessing import KBinsDiscretizer\n",
    "\n",
    "enc = KBinsDiscretizer(n_bins=10, encode='ordinal',strategy='uniform')\n",
    "enc.fit(df[[\"Pokemon HP\"]])\n",
    "df[\"Pokemon HP\"] = enc.transform(df[[\"Pokemon HP\"]]).astype(int)\n",
    "enc.fit(df[[\"Enemy HP\"]])\n",
    "df[\"Enemy HP\"] = enc.transform(df[[\"Enemy HP\"]]).astype(int)\n",
    "enc = KBinsDiscretizer(n_bins=10, encode='ordinal',strategy='uniform')\n",
    "enc.fit(df[[\"Power\"]])\n",
    "df[\"Power\"] = enc.transform(df[[\"Power\"]]).astype(int)\n",
    "df"
   ],
   "id": "b2aa6993aa8d565d",
   "outputs": [
    {
     "name": "stderr",
     "output_type": "stream",
     "text": [
      "C:\\Users\\albge\\PycharmProjects\\showdownBayesian\\venv\\lib\\site-packages\\sklearn\\preprocessing\\_discretization.py:248: FutureWarning: In version 1.5 onwards, subsample=200_000 will be used by default. Set subsample explicitly to silence this warning in the mean time. Set subsample=None to disable subsampling explicitly.\n",
      "  warnings.warn(\n",
      "C:\\Users\\albge\\PycharmProjects\\showdownBayesian\\venv\\lib\\site-packages\\sklearn\\preprocessing\\_discretization.py:248: FutureWarning: In version 1.5 onwards, subsample=200_000 will be used by default. Set subsample explicitly to silence this warning in the mean time. Set subsample=None to disable subsampling explicitly.\n",
      "  warnings.warn(\n",
      "C:\\Users\\albge\\PycharmProjects\\showdownBayesian\\venv\\lib\\site-packages\\sklearn\\preprocessing\\_discretization.py:248: FutureWarning: In version 1.5 onwards, subsample=200_000 will be used by default. Set subsample explicitly to silence this warning in the mean time. Set subsample=None to disable subsampling explicitly.\n",
      "  warnings.warn(\n"
     ]
    },
    {
     "data": {
      "text/plain": "            User      Sufferer     name move  Power  Pokemon HP  Enemy HP  \\\n0         Flygon  Aerodactyl\\n        U-turn      2           9         9   \n1     Aerodactyl    Bronzong\\n  Stealth Rock      0           9         9   \n2       Bronzong    Bronzong\\n    Trick Room      0           9         9   \n3       Bronzong  Forretress\\n    Earthquake      4           9         9   \n4       Bronzong  Forretress\\n    Trick Room      0           9         9   \n...          ...           ...           ...    ...         ...       ...   \n1025     Persian     Persian\\n    Nasty Plot      0           9         9   \n1026       Entei     Persian\\n   Sacred Fire      4           7         9   \n1027     Persian       Entei\\n    Dark Pulse      3           9         7   \n1028     Persian       Entei\\n    Nasty Plot      0           9         9   \n1029       Rotom     Persian\\n    Leaf Storm      5           6         9   \n\n     Weather Category Move  Choose  Multiplicator   stab  \n0       none      physical     1.0           0.50  False  \n1       none        status     1.0           0.50   True  \n2       none        status     1.0           0.25   True  \n3       none      physical     1.0           1.00  False  \n4       none        status     0.0           0.25   True  \n...      ...           ...     ...            ...    ...  \n1025    none        status     1.0           1.00  False  \n1026    none      physical     1.0           1.00   True  \n1027    none       special     1.0           1.00  False  \n1028    none        status     0.0           1.00  False  \n1029    none       special     1.0           1.00  False  \n\n[1030 rows x 11 columns]",
      "text/html": "<div>\n<style scoped>\n    .dataframe tbody tr th:only-of-type {\n        vertical-align: middle;\n    }\n\n    .dataframe tbody tr th {\n        vertical-align: top;\n    }\n\n    .dataframe thead th {\n        text-align: right;\n    }\n</style>\n<table border=\"1\" class=\"dataframe\">\n  <thead>\n    <tr style=\"text-align: right;\">\n      <th></th>\n      <th>User</th>\n      <th>Sufferer</th>\n      <th>name move</th>\n      <th>Power</th>\n      <th>Pokemon HP</th>\n      <th>Enemy HP</th>\n      <th>Weather</th>\n      <th>Category Move</th>\n      <th>Choose</th>\n      <th>Multiplicator</th>\n      <th>stab</th>\n    </tr>\n  </thead>\n  <tbody>\n    <tr>\n      <th>0</th>\n      <td>Flygon</td>\n      <td>Aerodactyl\\n</td>\n      <td>U-turn</td>\n      <td>2</td>\n      <td>9</td>\n      <td>9</td>\n      <td>none</td>\n      <td>physical</td>\n      <td>1.0</td>\n      <td>0.50</td>\n      <td>False</td>\n    </tr>\n    <tr>\n      <th>1</th>\n      <td>Aerodactyl</td>\n      <td>Bronzong\\n</td>\n      <td>Stealth Rock</td>\n      <td>0</td>\n      <td>9</td>\n      <td>9</td>\n      <td>none</td>\n      <td>status</td>\n      <td>1.0</td>\n      <td>0.50</td>\n      <td>True</td>\n    </tr>\n    <tr>\n      <th>2</th>\n      <td>Bronzong</td>\n      <td>Bronzong\\n</td>\n      <td>Trick Room</td>\n      <td>0</td>\n      <td>9</td>\n      <td>9</td>\n      <td>none</td>\n      <td>status</td>\n      <td>1.0</td>\n      <td>0.25</td>\n      <td>True</td>\n    </tr>\n    <tr>\n      <th>3</th>\n      <td>Bronzong</td>\n      <td>Forretress\\n</td>\n      <td>Earthquake</td>\n      <td>4</td>\n      <td>9</td>\n      <td>9</td>\n      <td>none</td>\n      <td>physical</td>\n      <td>1.0</td>\n      <td>1.00</td>\n      <td>False</td>\n    </tr>\n    <tr>\n      <th>4</th>\n      <td>Bronzong</td>\n      <td>Forretress\\n</td>\n      <td>Trick Room</td>\n      <td>0</td>\n      <td>9</td>\n      <td>9</td>\n      <td>none</td>\n      <td>status</td>\n      <td>0.0</td>\n      <td>0.25</td>\n      <td>True</td>\n    </tr>\n    <tr>\n      <th>...</th>\n      <td>...</td>\n      <td>...</td>\n      <td>...</td>\n      <td>...</td>\n      <td>...</td>\n      <td>...</td>\n      <td>...</td>\n      <td>...</td>\n      <td>...</td>\n      <td>...</td>\n      <td>...</td>\n    </tr>\n    <tr>\n      <th>1025</th>\n      <td>Persian</td>\n      <td>Persian\\n</td>\n      <td>Nasty Plot</td>\n      <td>0</td>\n      <td>9</td>\n      <td>9</td>\n      <td>none</td>\n      <td>status</td>\n      <td>1.0</td>\n      <td>1.00</td>\n      <td>False</td>\n    </tr>\n    <tr>\n      <th>1026</th>\n      <td>Entei</td>\n      <td>Persian\\n</td>\n      <td>Sacred Fire</td>\n      <td>4</td>\n      <td>7</td>\n      <td>9</td>\n      <td>none</td>\n      <td>physical</td>\n      <td>1.0</td>\n      <td>1.00</td>\n      <td>True</td>\n    </tr>\n    <tr>\n      <th>1027</th>\n      <td>Persian</td>\n      <td>Entei\\n</td>\n      <td>Dark Pulse</td>\n      <td>3</td>\n      <td>9</td>\n      <td>7</td>\n      <td>none</td>\n      <td>special</td>\n      <td>1.0</td>\n      <td>1.00</td>\n      <td>False</td>\n    </tr>\n    <tr>\n      <th>1028</th>\n      <td>Persian</td>\n      <td>Entei\\n</td>\n      <td>Nasty Plot</td>\n      <td>0</td>\n      <td>9</td>\n      <td>9</td>\n      <td>none</td>\n      <td>status</td>\n      <td>0.0</td>\n      <td>1.00</td>\n      <td>False</td>\n    </tr>\n    <tr>\n      <th>1029</th>\n      <td>Rotom</td>\n      <td>Persian\\n</td>\n      <td>Leaf Storm</td>\n      <td>5</td>\n      <td>6</td>\n      <td>9</td>\n      <td>none</td>\n      <td>special</td>\n      <td>1.0</td>\n      <td>1.00</td>\n      <td>False</td>\n    </tr>\n  </tbody>\n</table>\n<p>1030 rows × 11 columns</p>\n</div>"
     },
     "execution_count": 5,
     "metadata": {},
     "output_type": "execute_result"
    }
   ],
   "execution_count": 5
  },
  {
   "cell_type": "code",
   "source": [
    "custom_model = BayesianNetwork([('Pokemon HP', 'Choose'), ('Enemy HP', 'Choose'),\n",
    "                              ('stab', 'Choose'), ('Multiplicator', 'Choose'), ('Power', 'Choose'),\n",
    "                               (\"Weather\",\"Choose\")])\n",
    "pos = {'Pokemon HP': [0.75, -0.5], 'Enemy HP': [1.25, -0.5],\n",
    "       \"stab\": [0.75, -1.], 'Multiplicator': [1.25, -1],\n",
    "       'Power': [1.25, 0], \"Weather\" : [1.1, 0],\n",
    "       'Choose': [1, -0.5]}\n",
    "fig, ax = plt.subplots(1, 1, figsize=(12, 12))\n",
    "nx.draw_networkx(custom_model, pos=pos, ax=ax, node_size=5000)\n",
    "ax.set_title('Custom model')\n",
    "fig.savefig('custom_bn')"
   ],
   "metadata": {
    "collapsed": false,
    "ExecuteTime": {
     "end_time": "2024-04-11T13:17:45.821832800Z",
     "start_time": "2024-04-11T13:17:44.779377900Z"
    }
   },
   "id": "180e80aa9de14bd7",
   "outputs": [
    {
     "data": {
      "text/plain": "<Figure size 1200x1200 with 1 Axes>",
      "image/png": "[encoded data removed]"
     },
     "metadata": {},
     "output_type": "display_data"
    }
   ],
   "execution_count": 6
  },
  {
   "cell_type": "code",
   "source": [
    "\n",
    "estimator = BayesianEstimator(model=custom_model, data=df)\n",
    "\n",
    "cpds = []\n",
    "for node in custom_model.nodes():\n",
    "    cpds.append(estimator.estimate_cpd(node=node, \n",
    "                                       prior_type=\"BDeu\", \n",
    "                                       equivalent_sample_size=10))\n",
    "custom_model.add_cpds(*cpds)\n",
    "\n",
    "print('Checking the model...')\n",
    "print(f'The model is {custom_model.check_model()}\\n\\n')\n",
    "\n",
    "for cpd in [cpd for cpd in custom_model.get_cpds()]:\n",
    "    print(f'CPD for {cpd.variable}:')\n",
    "    print(cpd)\n",
    "    \n",
    "choose = custom_model.get_cpds(\"Choose\")\n",
    "print(choose)"
   ],
   "metadata": {
    "collapsed": false,
    "ExecuteTime": {
     "end_time": "2024-04-11T13:18:01.996572Z",
     "start_time": "2024-04-11T13:17:45.761508300Z"
    }
   },
   "id": "d2719e1792b41d7f",
   "outputs": [
    {
     "name": "stdout",
     "output_type": "stream",
     "text": [
      "Checking the model...\n",
      "The model is True\n",
      "\n",
      "\n",
      "CPD for Pokemon HP:\n",
      "+---------------+------------+\n",
      "| Pokemon HP(0) | 0.00769231 |\n",
      "+---------------+------------+\n",
      "| Pokemon HP(1) | 0.00673077 |\n",
      "+---------------+------------+\n",
      "| Pokemon HP(2) | 0.00865385 |\n",
      "+---------------+------------+\n",
      "| Pokemon HP(3) | 0.0942308  |\n",
      "+---------------+------------+\n",
      "| Pokemon HP(4) | 0.00576923 |\n",
      "+---------------+------------+\n",
      "| Pokemon HP(5) | 0.0144231  |\n",
      "+---------------+------------+\n",
      "| Pokemon HP(6) | 0.0336538  |\n",
      "+---------------+------------+\n",
      "| Pokemon HP(7) | 0.0278846  |\n",
      "+---------------+------------+\n",
      "| Pokemon HP(8) | 0.0798077  |\n",
      "+---------------+------------+\n",
      "| Pokemon HP(9) | 0.721154   |\n",
      "+---------------+------------+\n",
      "CPD for Choose:\n",
      "+---------------+-----+--------------------+\n",
      "| Enemy HP      | ... | Enemy HP(9)        |\n",
      "+---------------+-----+--------------------+\n",
      "| Multiplicator | ... | Multiplicator(4.0) |\n",
      "+---------------+-----+--------------------+\n",
      "| Pokemon HP    | ... | Pokemon HP(9)      |\n",
      "+---------------+-----+--------------------+\n",
      "| Power         | ... | Power(9)           |\n",
      "+---------------+-----+--------------------+\n",
      "| Weather       | ... | Weather(none)      |\n",
      "+---------------+-----+--------------------+\n",
      "| stab          | ... | stab(True)         |\n",
      "+---------------+-----+--------------------+\n",
      "| Choose(0.0)   | ... | 0.5                |\n",
      "+---------------+-----+--------------------+\n",
      "| Choose(1.0)   | ... | 0.5                |\n",
      "+---------------+-----+--------------------+\n",
      "CPD for Enemy HP:\n",
      "+-------------+------------+\n",
      "| Enemy HP(0) | 0.00961538 |\n",
      "+-------------+------------+\n",
      "| Enemy HP(1) | 0.00288462 |\n",
      "+-------------+------------+\n",
      "| Enemy HP(2) | 0.0115385  |\n",
      "+-------------+------------+\n",
      "| Enemy HP(3) | 0.0759615  |\n",
      "+-------------+------------+\n",
      "| Enemy HP(4) | 0.0288462  |\n",
      "+-------------+------------+\n",
      "| Enemy HP(5) | 0.0125     |\n",
      "+-------------+------------+\n",
      "| Enemy HP(6) | 0.0336538  |\n",
      "+-------------+------------+\n",
      "| Enemy HP(7) | 0.0326923  |\n",
      "+-------------+------------+\n",
      "| Enemy HP(8) | 0.075      |\n",
      "+-------------+------------+\n",
      "| Enemy HP(9) | 0.717308   |\n",
      "+-------------+------------+\n",
      "CPD for stab:\n",
      "+-------------+----------+\n",
      "| stab(False) | 0.479808 |\n",
      "+-------------+----------+\n",
      "| stab(True)  | 0.520192 |\n",
      "+-------------+----------+\n",
      "CPD for Multiplicator:\n",
      "+---------------------+------------+\n",
      "| Multiplicator(0.0)  | 0.0237179  |\n",
      "+---------------------+------------+\n",
      "| Multiplicator(0.25) | 0.0304487  |\n",
      "+---------------------+------------+\n",
      "| Multiplicator(0.5)  | 0.136218   |\n",
      "+---------------------+------------+\n",
      "| Multiplicator(1.0)  | 0.741026   |\n",
      "+---------------------+------------+\n",
      "| Multiplicator(2.0)  | 0.0621795  |\n",
      "+---------------------+------------+\n",
      "| Multiplicator(4.0)  | 0.00641026 |\n",
      "+---------------------+------------+\n",
      "CPD for Power:\n",
      "+----------+------------+\n",
      "| Power(0) | 0.481971   |\n",
      "+----------+------------+\n",
      "| Power(1) | 0.0252404  |\n",
      "+----------+------------+\n",
      "| Power(2) | 0.0733173  |\n",
      "+----------+------------+\n",
      "| Power(3) | 0.231971   |\n",
      "+----------+------------+\n",
      "| Power(4) | 0.170433   |\n",
      "+----------+------------+\n",
      "| Power(5) | 0.0117788  |\n",
      "+----------+------------+\n",
      "| Power(6) | 0.003125   |\n",
      "+----------+------------+\n",
      "| Power(9) | 0.00216346 |\n",
      "+----------+------------+\n",
      "CPD for Weather:\n",
      "+--------------------+-----------+\n",
      "| Weather(Hail)      | 0.0182692 |\n",
      "+--------------------+-----------+\n",
      "| Weather(RainDance) | 0.0201923 |\n",
      "+--------------------+-----------+\n",
      "| Weather(Sandstorm) | 0.0432692 |\n",
      "+--------------------+-----------+\n",
      "| Weather(SunnyDay)  | 0.0711538 |\n",
      "+--------------------+-----------+\n",
      "| Weather(none)      | 0.847115  |\n",
      "+--------------------+-----------+\n",
      "+---------------+-----+--------------------+\n",
      "| Enemy HP      | ... | Enemy HP(9)        |\n",
      "+---------------+-----+--------------------+\n",
      "| Multiplicator | ... | Multiplicator(4.0) |\n",
      "+---------------+-----+--------------------+\n",
      "| Pokemon HP    | ... | Pokemon HP(9)      |\n",
      "+---------------+-----+--------------------+\n",
      "| Power         | ... | Power(9)           |\n",
      "+---------------+-----+--------------------+\n",
      "| Weather       | ... | Weather(none)      |\n",
      "+---------------+-----+--------------------+\n",
      "| stab          | ... | stab(True)         |\n",
      "+---------------+-----+--------------------+\n",
      "| Choose(0.0)   | ... | 0.5                |\n",
      "+---------------+-----+--------------------+\n",
      "| Choose(1.0)   | ... | 0.5                |\n",
      "+---------------+-----+--------------------+\n"
     ]
    }
   ],
   "execution_count": 7
  },
  {
   "metadata": {
    "ExecuteTime": {
     "end_time": "2024-04-11T13:20:47.902390600Z",
     "start_time": "2024-04-11T13:20:47.878987100Z"
    }
   },
   "cell_type": "code",
   "source": [
    "import time\n",
    "\n",
    "EVIDENCE = {'Power': 0,\n",
    "            'Multiplicator': 4,\n",
    "            'stab': True,\n",
    "            'Enemy HP': 1,\n",
    "            \"Pokemon HP\": 9}\n",
    "\n",
    "ordering_heuristics = ['MinFill', 'MinNeighbors','MinWeight','WeightedMinFill']\n",
    "inference = VariableElimination(custom_model)\n",
    "\n",
    "def run_query(target_var, evidence, print_output=True):\n",
    "    probs = []\n",
    "    for order in ordering_heuristics:\n",
    "        if print_output:\n",
    "            print('Using ' + order)\n",
    "        start = time.time()\n",
    "        prob = inference.query([target_var],\n",
    "                              evidence,\n",
    "                              elimination_order=order,\n",
    "                              show_progress=False)\n",
    "        probs.append(prob.get_value(Choose = 1))\n",
    "        end = time.time() - start\n",
    "        if print_output:\n",
    "            print(prob)\n",
    "            print('----- Query solved in {:.4f} seconds -----\\n\\n'.format(end))\n",
    "    return probs"
   ],
   "id": "33ff60968f99d4fc",
   "outputs": [],
   "execution_count": 10
  },
  {
   "metadata": {
    "ExecuteTime": {
     "end_time": "2024-04-11T13:18:02.259289Z",
     "start_time": "2024-04-11T13:18:01.989107500Z"
    }
   },
   "cell_type": "code",
   "source": [
    "result = run_query(target_var='Choose', evidence=EVIDENCE)\n",
    "print(result[0])"
   ],
   "id": "bb39cc30833bd6fc",
   "outputs": [
    {
     "name": "stdout",
     "output_type": "stream",
     "text": [
      "Using MinFill\n",
      "+-------------+---------------+\n",
      "| Choose      |   phi(Choose) |\n",
      "+=============+===============+\n",
      "| Choose(0.0) |        0.5000 |\n",
      "+-------------+---------------+\n",
      "| Choose(1.0) |        0.5000 |\n",
      "+-------------+---------------+\n",
      "----- Query solved in 0.0480 seconds -----\n",
      "\n",
      "\n",
      "Using MinNeighbors\n",
      "+-------------+---------------+\n",
      "| Choose      |   phi(Choose) |\n",
      "+=============+===============+\n",
      "| Choose(0.0) |        0.5000 |\n",
      "+-------------+---------------+\n",
      "| Choose(1.0) |        0.5000 |\n",
      "+-------------+---------------+\n",
      "----- Query solved in 0.0447 seconds -----\n",
      "\n",
      "\n",
      "Using MinWeight\n",
      "+-------------+---------------+\n",
      "| Choose      |   phi(Choose) |\n",
      "+=============+===============+\n",
      "| Choose(0.0) |        0.5000 |\n",
      "+-------------+---------------+\n",
      "| Choose(1.0) |        0.5000 |\n",
      "+-------------+---------------+\n",
      "----- Query solved in 0.0471 seconds -----\n",
      "\n",
      "\n",
      "Using WeightedMinFill\n",
      "+-------------+---------------+\n",
      "| Choose      |   phi(Choose) |\n",
      "+=============+===============+\n",
      "| Choose(0.0) |        0.5000 |\n",
      "+-------------+---------------+\n",
      "| Choose(1.0) |        0.5000 |\n",
      "+-------------+---------------+\n",
      "----- Query solved in 0.0479 seconds -----\n",
      "\n",
      "\n",
      "0.5\n"
     ]
    }
   ],
   "execution_count": 9
  },
  {
   "metadata": {
    "ExecuteTime": {
     "end_time": "2024-04-11T13:18:02.259289Z",
     "start_time": "2024-04-11T13:18:02.207139500Z"
    }
   },
   "cell_type": "code",
   "outputs": [],
   "execution_count": 9,
   "source": [],
   "id": "1c8c503bb27a5273"
  }
 ],
 "metadata": {
  "kernelspec": {
   "display_name": "Python 3",
   "language": "python",
   "name": "python3"
  },
  "language_info": {
   "codemirror_mode": {
    "name": "ipython",
    "version": 2
   },
   "file_extension": ".py",
   "mimetype": "text/x-python",
   "name": "python",
   "nbconvert_exporter": "python",
   "pygments_lexer": "ipython2",
   "version": "2.7.6"
  }
 },
 "nbformat": 4,
 "nbformat_minor": 5
}
